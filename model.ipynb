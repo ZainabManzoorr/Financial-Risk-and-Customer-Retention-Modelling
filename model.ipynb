{
 "cells": [
  {
   "cell_type": "code",
   "execution_count": 15,
   "id": "b9311912",
   "metadata": {},
   "outputs": [],
   "source": [
    "import pandas as pd\n",
    "\n",
    "churn= pd.read_csv(f\"final_churn_data.csv\")"
   ]
  },
  {
   "cell_type": "code",
   "execution_count": 16,
   "id": "2457769f",
   "metadata": {},
   "outputs": [],
   "source": [
    "X = churn.drop('Exited', axis=1)\n",
    "y = churn['Exited']\n"
   ]
  },
  {
   "cell_type": "code",
   "execution_count": 17,
   "id": "158f6f80",
   "metadata": {},
   "outputs": [],
   "source": [
    "from sklearn.model_selection import train_test_split\n",
    "from imblearn.over_sampling import SMOTE\n",
    "\n",
    "# Stratified split ensures both classes appear in train/test\n",
    "X_train, X_test, y_train, y_test = train_test_split(\n",
    "    X, y,\n",
    "    test_size=0.2,\n",
    "    stratify=y,          # ✅ critical line\n",
    "    random_state=42\n",
    ")\n",
    "\n",
    "# Apply SMOTE safely\n",
    "smote = SMOTE(random_state=42)\n",
    "X_train_res, y_train_res = smote.fit_resample(X_train, y_train)\n"
   ]
  },
  {
   "cell_type": "code",
   "execution_count": 18,
   "id": "315d4bd1",
   "metadata": {},
   "outputs": [],
   "source": [
    "from sklearn.linear_model import LogisticRegression\n",
    "from sklearn.metrics import classification_report, roc_auc_score\n",
    "\n"
   ]
  },
  {
   "cell_type": "code",
   "execution_count": 19,
   "id": "528ef736",
   "metadata": {},
   "outputs": [
    {
     "name": "stdout",
     "output_type": "stream",
     "text": [
      "🔹 Random Forest Results:\n",
      "              precision    recall  f1-score   support\n",
      "\n",
      "           0       0.87      0.97      0.92      1593\n",
      "           1       0.77      0.45      0.57       404\n",
      "\n",
      "    accuracy                           0.86      1997\n",
      "   macro avg       0.82      0.71      0.74      1997\n",
      "weighted avg       0.85      0.86      0.85      1997\n",
      "\n",
      "ROC-AUC: 0.8511899212520122\n"
     ]
    }
   ],
   "source": [
    "from sklearn.ensemble import RandomForestClassifier\n",
    "\n",
    "rf = RandomForestClassifier(random_state=42)\n",
    "rf.fit(X_train, y_train)\n",
    "y_pred_rf = rf.predict(X_test)\n",
    "\n",
    "print(\"🔹 Random Forest Results:\")\n",
    "print(classification_report(y_test, y_pred_rf))\n",
    "print(\"ROC-AUC:\", roc_auc_score(y_test, rf.predict_proba(X_test)[:,1]))\n"
   ]
  },
  {
   "cell_type": "code",
   "execution_count": 20,
   "id": "1dbc3b04",
   "metadata": {},
   "outputs": [
    {
     "name": "stdout",
     "output_type": "stream",
     "text": [
      "              precision    recall  f1-score   support\n",
      "\n",
      "           0       0.89      0.92      0.91      1593\n",
      "           1       0.64      0.53      0.58       404\n",
      "\n",
      "    accuracy                           0.85      1997\n",
      "   macro avg       0.76      0.73      0.74      1997\n",
      "weighted avg       0.84      0.85      0.84      1997\n",
      "\n",
      "ROC-AUC: 0.8511899212520122\n",
      "[[1472  121]\n",
      " [ 188  216]]\n"
     ]
    }
   ],
   "source": [
    "import numpy as np\n",
    "from sklearn.metrics import confusion_matrix\n",
    "\n",
    "# Get predicted probabilities\n",
    "y_proba = rf.predict_proba(X_test)[:, 1]\n",
    "\n",
    "# Set new threshold\n",
    "threshold = 0.4\n",
    "y_pred_new = np.where(y_proba >= threshold, 1, 0)\n",
    "\n",
    "# Evaluate again\n",
    "print(classification_report(y_test, y_pred_new))\n",
    "print(\"ROC-AUC:\", roc_auc_score(y_test, y_proba))\n",
    "\n",
    "# Optional: check confusion matrix\n",
    "print(confusion_matrix(y_test, y_pred_new))\n"
   ]
  },
  {
   "cell_type": "code",
   "execution_count": 21,
   "id": "68a5d684",
   "metadata": {},
   "outputs": [
    {
     "name": "stdout",
     "output_type": "stream",
     "text": [
      "              precision    recall  f1-score   support\n",
      "\n",
      "           0       0.89      0.92      0.91      1593\n",
      "           1       0.64      0.53      0.58       404\n",
      "\n",
      "    accuracy                           0.85      1997\n",
      "   macro avg       0.76      0.73      0.74      1997\n",
      "weighted avg       0.84      0.85      0.84      1997\n",
      "\n",
      "ROC-AUC: 0.8511899212520122\n",
      "[[1472  121]\n",
      " [ 188  216]]\n"
     ]
    }
   ],
   "source": [
    "import numpy as np\n",
    "from sklearn.metrics import classification_report, confusion_matrix, roc_auc_score\n",
    "\n",
    "y_proba = rf.predict_proba(X_test)[:, 1]\n",
    "y_pred_threshold = np.where(y_proba >= 0.4, 1, 0)\n",
    "\n",
    "print(classification_report(y_test, y_pred_threshold))\n",
    "print(\"ROC-AUC:\", roc_auc_score(y_test, y_proba))\n",
    "print(confusion_matrix(y_test, y_pred_threshold))\n"
   ]
  },
  {
   "cell_type": "code",
   "execution_count": 22,
   "id": "e58a1f9e",
   "metadata": {},
   "outputs": [
    {
     "name": "stdout",
     "output_type": "stream",
     "text": [
      "                          Feature  Importance\n",
      "2                             Age    0.164838\n",
      "5                   NumOfProducts    0.101025\n",
      "16  NumOfProducts_EstimatedSalary    0.088794\n",
      "4                         Balance    0.071350\n",
      "13                CreditScore_Age    0.069776\n",
      "12                    TenureByAge    0.068008\n",
      "11             BalanceSalaryRatio    0.067891\n",
      "14        Balance_EstimatedSalary    0.064061\n",
      "0                     CreditScore    0.063950\n",
      "8                 EstimatedSalary    0.060475\n"
     ]
    }
   ],
   "source": [
    "import pandas as pd\n",
    "feature_importances = pd.DataFrame({\n",
    "    'Feature': X.columns,\n",
    "    'Importance': rf.feature_importances_\n",
    "}).sort_values(by='Importance', ascending=False)\n",
    "print(feature_importances.head(10))\n"
   ]
  }
 ],
 "metadata": {
  "kernelspec": {
   "display_name": "financial-risk-and-customer-retention-py3.12 (3.12.4)",
   "language": "python",
   "name": "python3"
  },
  "language_info": {
   "codemirror_mode": {
    "name": "ipython",
    "version": 3
   },
   "file_extension": ".py",
   "mimetype": "text/x-python",
   "name": "python",
   "nbconvert_exporter": "python",
   "pygments_lexer": "ipython3",
   "version": "3.12.4"
  }
 },
 "nbformat": 4,
 "nbformat_minor": 5
}
