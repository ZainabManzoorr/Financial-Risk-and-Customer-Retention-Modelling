{
 "cells": [
  {
   "cell_type": "code",
   "execution_count": 55,
   "id": "a2c340dd",
   "metadata": {},
   "outputs": [
    {
     "name": "stdout",
     "output_type": "stream",
     "text": [
      "Path to dataset files: C:\\Users\\ENVY\\.cache\\kagglehub\\datasets\\mathchi\\churn-for-bank-customers\\versions\\1\n"
     ]
    }
   ],
   "source": [
    "import kagglehub\n",
    "\n",
    "# Download latest version\n",
    "path = kagglehub.dataset_download(\"mathchi/churn-for-bank-customers\")\n",
    "\n",
    "print(\"Path to dataset files:\", path)"
   ]
  },
  {
   "cell_type": "code",
   "execution_count": 56,
   "id": "8d4bbde2",
   "metadata": {},
   "outputs": [
    {
     "data": {
      "application/vnd.microsoft.datawrangler.viewer.v0+json": {
       "columns": [
        {
         "name": "index",
         "rawType": "int64",
         "type": "integer"
        },
        {
         "name": "RowNumber",
         "rawType": "int64",
         "type": "integer"
        },
        {
         "name": "CustomerId",
         "rawType": "int64",
         "type": "integer"
        },
        {
         "name": "Surname",
         "rawType": "object",
         "type": "string"
        },
        {
         "name": "CreditScore",
         "rawType": "int64",
         "type": "integer"
        },
        {
         "name": "Geography",
         "rawType": "object",
         "type": "string"
        },
        {
         "name": "Gender",
         "rawType": "object",
         "type": "string"
        },
        {
         "name": "Age",
         "rawType": "int64",
         "type": "integer"
        },
        {
         "name": "Tenure",
         "rawType": "int64",
         "type": "integer"
        },
        {
         "name": "Balance",
         "rawType": "float64",
         "type": "float"
        },
        {
         "name": "NumOfProducts",
         "rawType": "int64",
         "type": "integer"
        },
        {
         "name": "HasCrCard",
         "rawType": "int64",
         "type": "integer"
        },
        {
         "name": "IsActiveMember",
         "rawType": "int64",
         "type": "integer"
        },
        {
         "name": "EstimatedSalary",
         "rawType": "float64",
         "type": "float"
        },
        {
         "name": "Exited",
         "rawType": "int64",
         "type": "integer"
        }
       ],
       "ref": "4a4409c9-86ed-4345-9d64-027a6b13fb4a",
       "rows": [
        [
         "0",
         "1",
         "15634602",
         "Hargrave",
         "619",
         "France",
         "Female",
         "42",
         "2",
         "0.0",
         "1",
         "1",
         "1",
         "101348.88",
         "1"
        ],
        [
         "1",
         "2",
         "15647311",
         "Hill",
         "608",
         "Spain",
         "Female",
         "41",
         "1",
         "83807.86",
         "1",
         "0",
         "1",
         "112542.58",
         "0"
        ],
        [
         "2",
         "3",
         "15619304",
         "Onio",
         "502",
         "France",
         "Female",
         "42",
         "8",
         "159660.8",
         "3",
         "1",
         "0",
         "113931.57",
         "1"
        ],
        [
         "3",
         "4",
         "15701354",
         "Boni",
         "699",
         "France",
         "Female",
         "39",
         "1",
         "0.0",
         "2",
         "0",
         "0",
         "93826.63",
         "0"
        ],
        [
         "4",
         "5",
         "15737888",
         "Mitchell",
         "850",
         "Spain",
         "Female",
         "43",
         "2",
         "125510.82",
         "1",
         "1",
         "1",
         "79084.1",
         "0"
        ]
       ],
       "shape": {
        "columns": 14,
        "rows": 5
       }
      },
      "text/html": [
       "<div>\n",
       "<style scoped>\n",
       "    .dataframe tbody tr th:only-of-type {\n",
       "        vertical-align: middle;\n",
       "    }\n",
       "\n",
       "    .dataframe tbody tr th {\n",
       "        vertical-align: top;\n",
       "    }\n",
       "\n",
       "    .dataframe thead th {\n",
       "        text-align: right;\n",
       "    }\n",
       "</style>\n",
       "<table border=\"1\" class=\"dataframe\">\n",
       "  <thead>\n",
       "    <tr style=\"text-align: right;\">\n",
       "      <th></th>\n",
       "      <th>RowNumber</th>\n",
       "      <th>CustomerId</th>\n",
       "      <th>Surname</th>\n",
       "      <th>CreditScore</th>\n",
       "      <th>Geography</th>\n",
       "      <th>Gender</th>\n",
       "      <th>Age</th>\n",
       "      <th>Tenure</th>\n",
       "      <th>Balance</th>\n",
       "      <th>NumOfProducts</th>\n",
       "      <th>HasCrCard</th>\n",
       "      <th>IsActiveMember</th>\n",
       "      <th>EstimatedSalary</th>\n",
       "      <th>Exited</th>\n",
       "    </tr>\n",
       "  </thead>\n",
       "  <tbody>\n",
       "    <tr>\n",
       "      <th>0</th>\n",
       "      <td>1</td>\n",
       "      <td>15634602</td>\n",
       "      <td>Hargrave</td>\n",
       "      <td>619</td>\n",
       "      <td>France</td>\n",
       "      <td>Female</td>\n",
       "      <td>42</td>\n",
       "      <td>2</td>\n",
       "      <td>0.00</td>\n",
       "      <td>1</td>\n",
       "      <td>1</td>\n",
       "      <td>1</td>\n",
       "      <td>101348.88</td>\n",
       "      <td>1</td>\n",
       "    </tr>\n",
       "    <tr>\n",
       "      <th>1</th>\n",
       "      <td>2</td>\n",
       "      <td>15647311</td>\n",
       "      <td>Hill</td>\n",
       "      <td>608</td>\n",
       "      <td>Spain</td>\n",
       "      <td>Female</td>\n",
       "      <td>41</td>\n",
       "      <td>1</td>\n",
       "      <td>83807.86</td>\n",
       "      <td>1</td>\n",
       "      <td>0</td>\n",
       "      <td>1</td>\n",
       "      <td>112542.58</td>\n",
       "      <td>0</td>\n",
       "    </tr>\n",
       "    <tr>\n",
       "      <th>2</th>\n",
       "      <td>3</td>\n",
       "      <td>15619304</td>\n",
       "      <td>Onio</td>\n",
       "      <td>502</td>\n",
       "      <td>France</td>\n",
       "      <td>Female</td>\n",
       "      <td>42</td>\n",
       "      <td>8</td>\n",
       "      <td>159660.80</td>\n",
       "      <td>3</td>\n",
       "      <td>1</td>\n",
       "      <td>0</td>\n",
       "      <td>113931.57</td>\n",
       "      <td>1</td>\n",
       "    </tr>\n",
       "    <tr>\n",
       "      <th>3</th>\n",
       "      <td>4</td>\n",
       "      <td>15701354</td>\n",
       "      <td>Boni</td>\n",
       "      <td>699</td>\n",
       "      <td>France</td>\n",
       "      <td>Female</td>\n",
       "      <td>39</td>\n",
       "      <td>1</td>\n",
       "      <td>0.00</td>\n",
       "      <td>2</td>\n",
       "      <td>0</td>\n",
       "      <td>0</td>\n",
       "      <td>93826.63</td>\n",
       "      <td>0</td>\n",
       "    </tr>\n",
       "    <tr>\n",
       "      <th>4</th>\n",
       "      <td>5</td>\n",
       "      <td>15737888</td>\n",
       "      <td>Mitchell</td>\n",
       "      <td>850</td>\n",
       "      <td>Spain</td>\n",
       "      <td>Female</td>\n",
       "      <td>43</td>\n",
       "      <td>2</td>\n",
       "      <td>125510.82</td>\n",
       "      <td>1</td>\n",
       "      <td>1</td>\n",
       "      <td>1</td>\n",
       "      <td>79084.10</td>\n",
       "      <td>0</td>\n",
       "    </tr>\n",
       "  </tbody>\n",
       "</table>\n",
       "</div>"
      ],
      "text/plain": [
       "   RowNumber  CustomerId   Surname  CreditScore Geography  Gender  Age  \\\n",
       "0          1    15634602  Hargrave          619    France  Female   42   \n",
       "1          2    15647311      Hill          608     Spain  Female   41   \n",
       "2          3    15619304      Onio          502    France  Female   42   \n",
       "3          4    15701354      Boni          699    France  Female   39   \n",
       "4          5    15737888  Mitchell          850     Spain  Female   43   \n",
       "\n",
       "   Tenure    Balance  NumOfProducts  HasCrCard  IsActiveMember  \\\n",
       "0       2       0.00              1          1               1   \n",
       "1       1   83807.86              1          0               1   \n",
       "2       8  159660.80              3          1               0   \n",
       "3       1       0.00              2          0               0   \n",
       "4       2  125510.82              1          1               1   \n",
       "\n",
       "   EstimatedSalary  Exited  \n",
       "0        101348.88       1  \n",
       "1        112542.58       0  \n",
       "2        113931.57       1  \n",
       "3         93826.63       0  \n",
       "4         79084.10       0  "
      ]
     },
     "execution_count": 56,
     "metadata": {},
     "output_type": "execute_result"
    }
   ],
   "source": [
    "import pandas as pd\n",
    "\n",
    "churn = pd.read_csv(f\"{path}/churn.csv\")\n",
    "churn.head()"
   ]
  },
  {
   "cell_type": "code",
   "execution_count": 57,
   "id": "565d4dc0",
   "metadata": {},
   "outputs": [
    {
     "name": "stdout",
     "output_type": "stream",
     "text": [
      "<class 'pandas.core.frame.DataFrame'>\n",
      "RangeIndex: 10000 entries, 0 to 9999\n",
      "Data columns (total 14 columns):\n",
      " #   Column           Non-Null Count  Dtype  \n",
      "---  ------           --------------  -----  \n",
      " 0   RowNumber        10000 non-null  int64  \n",
      " 1   CustomerId       10000 non-null  int64  \n",
      " 2   Surname          10000 non-null  object \n",
      " 3   CreditScore      10000 non-null  int64  \n",
      " 4   Geography        10000 non-null  object \n",
      " 5   Gender           10000 non-null  object \n",
      " 6   Age              10000 non-null  int64  \n",
      " 7   Tenure           10000 non-null  int64  \n",
      " 8   Balance          10000 non-null  float64\n",
      " 9   NumOfProducts    10000 non-null  int64  \n",
      " 10  HasCrCard        10000 non-null  int64  \n",
      " 11  IsActiveMember   10000 non-null  int64  \n",
      " 12  EstimatedSalary  10000 non-null  float64\n",
      " 13  Exited           10000 non-null  int64  \n",
      "dtypes: float64(2), int64(9), object(3)\n",
      "memory usage: 1.1+ MB\n"
     ]
    }
   ],
   "source": [
    "churn.info()"
   ]
  },
  {
   "cell_type": "code",
   "execution_count": 58,
   "id": "bf53f510",
   "metadata": {},
   "outputs": [
    {
     "data": {
      "application/vnd.microsoft.datawrangler.viewer.v0+json": {
       "columns": [
        {
         "name": "index",
         "rawType": "object",
         "type": "string"
        },
        {
         "name": "RowNumber",
         "rawType": "float64",
         "type": "float"
        },
        {
         "name": "CustomerId",
         "rawType": "float64",
         "type": "float"
        },
        {
         "name": "CreditScore",
         "rawType": "float64",
         "type": "float"
        },
        {
         "name": "Age",
         "rawType": "float64",
         "type": "float"
        },
        {
         "name": "Tenure",
         "rawType": "float64",
         "type": "float"
        },
        {
         "name": "Balance",
         "rawType": "float64",
         "type": "float"
        },
        {
         "name": "NumOfProducts",
         "rawType": "float64",
         "type": "float"
        },
        {
         "name": "HasCrCard",
         "rawType": "float64",
         "type": "float"
        },
        {
         "name": "IsActiveMember",
         "rawType": "float64",
         "type": "float"
        },
        {
         "name": "EstimatedSalary",
         "rawType": "float64",
         "type": "float"
        },
        {
         "name": "Exited",
         "rawType": "float64",
         "type": "float"
        }
       ],
       "ref": "eb5bc165-d47d-4777-bc57-6b2ca6a15079",
       "rows": [
        [
         "count",
         "10000.0",
         "10000.0",
         "10000.0",
         "10000.0",
         "10000.0",
         "10000.0",
         "10000.0",
         "10000.0",
         "10000.0",
         "10000.0",
         "10000.0"
        ],
        [
         "mean",
         "5000.5",
         "15690940.5694",
         "650.5288",
         "38.9218",
         "5.0128",
         "76485.889288",
         "1.5302",
         "0.7055",
         "0.5151",
         "100090.239881",
         "0.2037"
        ],
        [
         "std",
         "2886.8956799071675",
         "71936.1861227489",
         "96.65329873613035",
         "10.487806451704609",
         "2.8921743770496837",
         "62397.40520238596",
         "0.5816543579989906",
         "0.4558404644751334",
         "0.49979692845891893",
         "57510.49281769816",
         "0.40276858399486093"
        ],
        [
         "min",
         "1.0",
         "15565701.0",
         "350.0",
         "18.0",
         "0.0",
         "0.0",
         "1.0",
         "0.0",
         "0.0",
         "11.58",
         "0.0"
        ],
        [
         "25%",
         "2500.75",
         "15628528.25",
         "584.0",
         "32.0",
         "3.0",
         "0.0",
         "1.0",
         "0.0",
         "0.0",
         "51002.11",
         "0.0"
        ],
        [
         "50%",
         "5000.5",
         "15690738.0",
         "652.0",
         "37.0",
         "5.0",
         "97198.54000000001",
         "1.0",
         "1.0",
         "1.0",
         "100193.915",
         "0.0"
        ],
        [
         "75%",
         "7500.25",
         "15753233.75",
         "718.0",
         "44.0",
         "7.0",
         "127644.24",
         "2.0",
         "1.0",
         "1.0",
         "149388.2475",
         "0.0"
        ],
        [
         "max",
         "10000.0",
         "15815690.0",
         "850.0",
         "92.0",
         "10.0",
         "250898.09",
         "4.0",
         "1.0",
         "1.0",
         "199992.48",
         "1.0"
        ]
       ],
       "shape": {
        "columns": 11,
        "rows": 8
       }
      },
      "text/html": [
       "<div>\n",
       "<style scoped>\n",
       "    .dataframe tbody tr th:only-of-type {\n",
       "        vertical-align: middle;\n",
       "    }\n",
       "\n",
       "    .dataframe tbody tr th {\n",
       "        vertical-align: top;\n",
       "    }\n",
       "\n",
       "    .dataframe thead th {\n",
       "        text-align: right;\n",
       "    }\n",
       "</style>\n",
       "<table border=\"1\" class=\"dataframe\">\n",
       "  <thead>\n",
       "    <tr style=\"text-align: right;\">\n",
       "      <th></th>\n",
       "      <th>RowNumber</th>\n",
       "      <th>CustomerId</th>\n",
       "      <th>CreditScore</th>\n",
       "      <th>Age</th>\n",
       "      <th>Tenure</th>\n",
       "      <th>Balance</th>\n",
       "      <th>NumOfProducts</th>\n",
       "      <th>HasCrCard</th>\n",
       "      <th>IsActiveMember</th>\n",
       "      <th>EstimatedSalary</th>\n",
       "      <th>Exited</th>\n",
       "    </tr>\n",
       "  </thead>\n",
       "  <tbody>\n",
       "    <tr>\n",
       "      <th>count</th>\n",
       "      <td>10000.00000</td>\n",
       "      <td>1.000000e+04</td>\n",
       "      <td>10000.000000</td>\n",
       "      <td>10000.000000</td>\n",
       "      <td>10000.000000</td>\n",
       "      <td>10000.000000</td>\n",
       "      <td>10000.000000</td>\n",
       "      <td>10000.00000</td>\n",
       "      <td>10000.000000</td>\n",
       "      <td>10000.000000</td>\n",
       "      <td>10000.000000</td>\n",
       "    </tr>\n",
       "    <tr>\n",
       "      <th>mean</th>\n",
       "      <td>5000.50000</td>\n",
       "      <td>1.569094e+07</td>\n",
       "      <td>650.528800</td>\n",
       "      <td>38.921800</td>\n",
       "      <td>5.012800</td>\n",
       "      <td>76485.889288</td>\n",
       "      <td>1.530200</td>\n",
       "      <td>0.70550</td>\n",
       "      <td>0.515100</td>\n",
       "      <td>100090.239881</td>\n",
       "      <td>0.203700</td>\n",
       "    </tr>\n",
       "    <tr>\n",
       "      <th>std</th>\n",
       "      <td>2886.89568</td>\n",
       "      <td>7.193619e+04</td>\n",
       "      <td>96.653299</td>\n",
       "      <td>10.487806</td>\n",
       "      <td>2.892174</td>\n",
       "      <td>62397.405202</td>\n",
       "      <td>0.581654</td>\n",
       "      <td>0.45584</td>\n",
       "      <td>0.499797</td>\n",
       "      <td>57510.492818</td>\n",
       "      <td>0.402769</td>\n",
       "    </tr>\n",
       "    <tr>\n",
       "      <th>min</th>\n",
       "      <td>1.00000</td>\n",
       "      <td>1.556570e+07</td>\n",
       "      <td>350.000000</td>\n",
       "      <td>18.000000</td>\n",
       "      <td>0.000000</td>\n",
       "      <td>0.000000</td>\n",
       "      <td>1.000000</td>\n",
       "      <td>0.00000</td>\n",
       "      <td>0.000000</td>\n",
       "      <td>11.580000</td>\n",
       "      <td>0.000000</td>\n",
       "    </tr>\n",
       "    <tr>\n",
       "      <th>25%</th>\n",
       "      <td>2500.75000</td>\n",
       "      <td>1.562853e+07</td>\n",
       "      <td>584.000000</td>\n",
       "      <td>32.000000</td>\n",
       "      <td>3.000000</td>\n",
       "      <td>0.000000</td>\n",
       "      <td>1.000000</td>\n",
       "      <td>0.00000</td>\n",
       "      <td>0.000000</td>\n",
       "      <td>51002.110000</td>\n",
       "      <td>0.000000</td>\n",
       "    </tr>\n",
       "    <tr>\n",
       "      <th>50%</th>\n",
       "      <td>5000.50000</td>\n",
       "      <td>1.569074e+07</td>\n",
       "      <td>652.000000</td>\n",
       "      <td>37.000000</td>\n",
       "      <td>5.000000</td>\n",
       "      <td>97198.540000</td>\n",
       "      <td>1.000000</td>\n",
       "      <td>1.00000</td>\n",
       "      <td>1.000000</td>\n",
       "      <td>100193.915000</td>\n",
       "      <td>0.000000</td>\n",
       "    </tr>\n",
       "    <tr>\n",
       "      <th>75%</th>\n",
       "      <td>7500.25000</td>\n",
       "      <td>1.575323e+07</td>\n",
       "      <td>718.000000</td>\n",
       "      <td>44.000000</td>\n",
       "      <td>7.000000</td>\n",
       "      <td>127644.240000</td>\n",
       "      <td>2.000000</td>\n",
       "      <td>1.00000</td>\n",
       "      <td>1.000000</td>\n",
       "      <td>149388.247500</td>\n",
       "      <td>0.000000</td>\n",
       "    </tr>\n",
       "    <tr>\n",
       "      <th>max</th>\n",
       "      <td>10000.00000</td>\n",
       "      <td>1.581569e+07</td>\n",
       "      <td>850.000000</td>\n",
       "      <td>92.000000</td>\n",
       "      <td>10.000000</td>\n",
       "      <td>250898.090000</td>\n",
       "      <td>4.000000</td>\n",
       "      <td>1.00000</td>\n",
       "      <td>1.000000</td>\n",
       "      <td>199992.480000</td>\n",
       "      <td>1.000000</td>\n",
       "    </tr>\n",
       "  </tbody>\n",
       "</table>\n",
       "</div>"
      ],
      "text/plain": [
       "         RowNumber    CustomerId   CreditScore           Age        Tenure  \\\n",
       "count  10000.00000  1.000000e+04  10000.000000  10000.000000  10000.000000   \n",
       "mean    5000.50000  1.569094e+07    650.528800     38.921800      5.012800   \n",
       "std     2886.89568  7.193619e+04     96.653299     10.487806      2.892174   \n",
       "min        1.00000  1.556570e+07    350.000000     18.000000      0.000000   \n",
       "25%     2500.75000  1.562853e+07    584.000000     32.000000      3.000000   \n",
       "50%     5000.50000  1.569074e+07    652.000000     37.000000      5.000000   \n",
       "75%     7500.25000  1.575323e+07    718.000000     44.000000      7.000000   \n",
       "max    10000.00000  1.581569e+07    850.000000     92.000000     10.000000   \n",
       "\n",
       "             Balance  NumOfProducts    HasCrCard  IsActiveMember  \\\n",
       "count   10000.000000   10000.000000  10000.00000    10000.000000   \n",
       "mean    76485.889288       1.530200      0.70550        0.515100   \n",
       "std     62397.405202       0.581654      0.45584        0.499797   \n",
       "min         0.000000       1.000000      0.00000        0.000000   \n",
       "25%         0.000000       1.000000      0.00000        0.000000   \n",
       "50%     97198.540000       1.000000      1.00000        1.000000   \n",
       "75%    127644.240000       2.000000      1.00000        1.000000   \n",
       "max    250898.090000       4.000000      1.00000        1.000000   \n",
       "\n",
       "       EstimatedSalary        Exited  \n",
       "count     10000.000000  10000.000000  \n",
       "mean     100090.239881      0.203700  \n",
       "std       57510.492818      0.402769  \n",
       "min          11.580000      0.000000  \n",
       "25%       51002.110000      0.000000  \n",
       "50%      100193.915000      0.000000  \n",
       "75%      149388.247500      0.000000  \n",
       "max      199992.480000      1.000000  "
      ]
     },
     "execution_count": 58,
     "metadata": {},
     "output_type": "execute_result"
    }
   ],
   "source": [
    "churn.describe()"
   ]
  },
  {
   "cell_type": "code",
   "execution_count": 59,
   "id": "506e3d65",
   "metadata": {},
   "outputs": [
    {
     "data": {
      "application/vnd.microsoft.datawrangler.viewer.v0+json": {
       "columns": [
        {
         "name": "index",
         "rawType": "object",
         "type": "string"
        },
        {
         "name": "0",
         "rawType": "int64",
         "type": "integer"
        }
       ],
       "ref": "5ce61860-9b07-4296-be52-2ff11a55a81f",
       "rows": [
        [
         "RowNumber",
         "0"
        ],
        [
         "CustomerId",
         "0"
        ],
        [
         "Surname",
         "0"
        ],
        [
         "CreditScore",
         "0"
        ],
        [
         "Geography",
         "0"
        ],
        [
         "Gender",
         "0"
        ],
        [
         "Age",
         "0"
        ],
        [
         "Tenure",
         "0"
        ],
        [
         "Balance",
         "0"
        ],
        [
         "NumOfProducts",
         "0"
        ],
        [
         "HasCrCard",
         "0"
        ],
        [
         "IsActiveMember",
         "0"
        ],
        [
         "EstimatedSalary",
         "0"
        ],
        [
         "Exited",
         "0"
        ]
       ],
       "shape": {
        "columns": 1,
        "rows": 14
       }
      },
      "text/plain": [
       "RowNumber          0\n",
       "CustomerId         0\n",
       "Surname            0\n",
       "CreditScore        0\n",
       "Geography          0\n",
       "Gender             0\n",
       "Age                0\n",
       "Tenure             0\n",
       "Balance            0\n",
       "NumOfProducts      0\n",
       "HasCrCard          0\n",
       "IsActiveMember     0\n",
       "EstimatedSalary    0\n",
       "Exited             0\n",
       "dtype: int64"
      ]
     },
     "execution_count": 59,
     "metadata": {},
     "output_type": "execute_result"
    }
   ],
   "source": [
    "churn.isnull().sum()"
   ]
  },
  {
   "cell_type": "code",
   "execution_count": 60,
   "id": "3850922b",
   "metadata": {},
   "outputs": [
    {
     "data": {
      "text/plain": [
       "np.int64(0)"
      ]
     },
     "execution_count": 60,
     "metadata": {},
     "output_type": "execute_result"
    }
   ],
   "source": [
    "churn.duplicated().sum()"
   ]
  },
  {
   "cell_type": "code",
   "execution_count": 61,
   "id": "9ef8b80c",
   "metadata": {},
   "outputs": [
    {
     "data": {
      "text/plain": [
       "Index(['RowNumber', 'CustomerId', 'Surname', 'CreditScore', 'Geography',\n",
       "       'Gender', 'Age', 'Tenure', 'Balance', 'NumOfProducts', 'HasCrCard',\n",
       "       'IsActiveMember', 'EstimatedSalary', 'Exited'],\n",
       "      dtype='object')"
      ]
     },
     "execution_count": 61,
     "metadata": {},
     "output_type": "execute_result"
    }
   ],
   "source": [
    "churn.columns"
   ]
  },
  {
   "cell_type": "code",
   "execution_count": 62,
   "id": "6eed472c",
   "metadata": {},
   "outputs": [
    {
     "data": {
      "application/vnd.microsoft.datawrangler.viewer.v0+json": {
       "columns": [
        {
         "name": "index",
         "rawType": "int64",
         "type": "integer"
        },
        {
         "name": "CreditScore",
         "rawType": "int64",
         "type": "integer"
        },
        {
         "name": "Geography",
         "rawType": "object",
         "type": "string"
        },
        {
         "name": "Gender",
         "rawType": "object",
         "type": "string"
        },
        {
         "name": "Age",
         "rawType": "int64",
         "type": "integer"
        },
        {
         "name": "Tenure",
         "rawType": "int64",
         "type": "integer"
        },
        {
         "name": "Balance",
         "rawType": "float64",
         "type": "float"
        },
        {
         "name": "NumOfProducts",
         "rawType": "int64",
         "type": "integer"
        },
        {
         "name": "HasCrCard",
         "rawType": "int64",
         "type": "integer"
        },
        {
         "name": "IsActiveMember",
         "rawType": "int64",
         "type": "integer"
        },
        {
         "name": "EstimatedSalary",
         "rawType": "float64",
         "type": "float"
        },
        {
         "name": "Exited",
         "rawType": "int64",
         "type": "integer"
        }
       ],
       "ref": "6f43b794-f825-4574-a085-b206e44562c0",
       "rows": [
        [
         "0",
         "619",
         "France",
         "Female",
         "42",
         "2",
         "0.0",
         "1",
         "1",
         "1",
         "101348.88",
         "1"
        ],
        [
         "1",
         "608",
         "Spain",
         "Female",
         "41",
         "1",
         "83807.86",
         "1",
         "0",
         "1",
         "112542.58",
         "0"
        ],
        [
         "2",
         "502",
         "France",
         "Female",
         "42",
         "8",
         "159660.8",
         "3",
         "1",
         "0",
         "113931.57",
         "1"
        ],
        [
         "3",
         "699",
         "France",
         "Female",
         "39",
         "1",
         "0.0",
         "2",
         "0",
         "0",
         "93826.63",
         "0"
        ],
        [
         "4",
         "850",
         "Spain",
         "Female",
         "43",
         "2",
         "125510.82",
         "1",
         "1",
         "1",
         "79084.1",
         "0"
        ]
       ],
       "shape": {
        "columns": 11,
        "rows": 5
       }
      },
      "text/html": [
       "<div>\n",
       "<style scoped>\n",
       "    .dataframe tbody tr th:only-of-type {\n",
       "        vertical-align: middle;\n",
       "    }\n",
       "\n",
       "    .dataframe tbody tr th {\n",
       "        vertical-align: top;\n",
       "    }\n",
       "\n",
       "    .dataframe thead th {\n",
       "        text-align: right;\n",
       "    }\n",
       "</style>\n",
       "<table border=\"1\" class=\"dataframe\">\n",
       "  <thead>\n",
       "    <tr style=\"text-align: right;\">\n",
       "      <th></th>\n",
       "      <th>CreditScore</th>\n",
       "      <th>Geography</th>\n",
       "      <th>Gender</th>\n",
       "      <th>Age</th>\n",
       "      <th>Tenure</th>\n",
       "      <th>Balance</th>\n",
       "      <th>NumOfProducts</th>\n",
       "      <th>HasCrCard</th>\n",
       "      <th>IsActiveMember</th>\n",
       "      <th>EstimatedSalary</th>\n",
       "      <th>Exited</th>\n",
       "    </tr>\n",
       "  </thead>\n",
       "  <tbody>\n",
       "    <tr>\n",
       "      <th>0</th>\n",
       "      <td>619</td>\n",
       "      <td>France</td>\n",
       "      <td>Female</td>\n",
       "      <td>42</td>\n",
       "      <td>2</td>\n",
       "      <td>0.00</td>\n",
       "      <td>1</td>\n",
       "      <td>1</td>\n",
       "      <td>1</td>\n",
       "      <td>101348.88</td>\n",
       "      <td>1</td>\n",
       "    </tr>\n",
       "    <tr>\n",
       "      <th>1</th>\n",
       "      <td>608</td>\n",
       "      <td>Spain</td>\n",
       "      <td>Female</td>\n",
       "      <td>41</td>\n",
       "      <td>1</td>\n",
       "      <td>83807.86</td>\n",
       "      <td>1</td>\n",
       "      <td>0</td>\n",
       "      <td>1</td>\n",
       "      <td>112542.58</td>\n",
       "      <td>0</td>\n",
       "    </tr>\n",
       "    <tr>\n",
       "      <th>2</th>\n",
       "      <td>502</td>\n",
       "      <td>France</td>\n",
       "      <td>Female</td>\n",
       "      <td>42</td>\n",
       "      <td>8</td>\n",
       "      <td>159660.80</td>\n",
       "      <td>3</td>\n",
       "      <td>1</td>\n",
       "      <td>0</td>\n",
       "      <td>113931.57</td>\n",
       "      <td>1</td>\n",
       "    </tr>\n",
       "    <tr>\n",
       "      <th>3</th>\n",
       "      <td>699</td>\n",
       "      <td>France</td>\n",
       "      <td>Female</td>\n",
       "      <td>39</td>\n",
       "      <td>1</td>\n",
       "      <td>0.00</td>\n",
       "      <td>2</td>\n",
       "      <td>0</td>\n",
       "      <td>0</td>\n",
       "      <td>93826.63</td>\n",
       "      <td>0</td>\n",
       "    </tr>\n",
       "    <tr>\n",
       "      <th>4</th>\n",
       "      <td>850</td>\n",
       "      <td>Spain</td>\n",
       "      <td>Female</td>\n",
       "      <td>43</td>\n",
       "      <td>2</td>\n",
       "      <td>125510.82</td>\n",
       "      <td>1</td>\n",
       "      <td>1</td>\n",
       "      <td>1</td>\n",
       "      <td>79084.10</td>\n",
       "      <td>0</td>\n",
       "    </tr>\n",
       "  </tbody>\n",
       "</table>\n",
       "</div>"
      ],
      "text/plain": [
       "   CreditScore Geography  Gender  Age  Tenure    Balance  NumOfProducts  \\\n",
       "0          619    France  Female   42       2       0.00              1   \n",
       "1          608     Spain  Female   41       1   83807.86              1   \n",
       "2          502    France  Female   42       8  159660.80              3   \n",
       "3          699    France  Female   39       1       0.00              2   \n",
       "4          850     Spain  Female   43       2  125510.82              1   \n",
       "\n",
       "   HasCrCard  IsActiveMember  EstimatedSalary  Exited  \n",
       "0          1               1        101348.88       1  \n",
       "1          0               1        112542.58       0  \n",
       "2          1               0        113931.57       1  \n",
       "3          0               0         93826.63       0  \n",
       "4          1               1         79084.10       0  "
      ]
     },
     "execution_count": 62,
     "metadata": {},
     "output_type": "execute_result"
    }
   ],
   "source": [
    "churn.drop(['RowNumber', 'CustomerId', 'Surname'],axis=1, inplace=True)\n",
    "churn.head()"
   ]
  },
  {
   "cell_type": "code",
   "execution_count": 63,
   "id": "c67b5bc4",
   "metadata": {},
   "outputs": [],
   "source": [
    "churn['Geography'] = churn['Geography'].astype('category')\n",
    "churn['Gender'] = churn['Gender'].astype('category')"
   ]
  },
  {
   "cell_type": "code",
   "execution_count": 64,
   "id": "10afc693",
   "metadata": {},
   "outputs": [],
   "source": [
    "churn['HasCrCard'] = churn['HasCrCard'].astype('int')\n",
    "churn['IsActiveMember'] = churn['IsActiveMember'].astype('int')\n",
    "churn['Exited'] = churn['Exited'].astype('int')"
   ]
  },
  {
   "cell_type": "code",
   "execution_count": 65,
   "id": "96b690c5",
   "metadata": {},
   "outputs": [
    {
     "name": "stdout",
     "output_type": "stream",
     "text": [
      "<class 'pandas.core.frame.DataFrame'>\n",
      "RangeIndex: 10000 entries, 0 to 9999\n",
      "Data columns (total 11 columns):\n",
      " #   Column           Non-Null Count  Dtype   \n",
      "---  ------           --------------  -----   \n",
      " 0   CreditScore      10000 non-null  int64   \n",
      " 1   Geography        10000 non-null  category\n",
      " 2   Gender           10000 non-null  category\n",
      " 3   Age              10000 non-null  int64   \n",
      " 4   Tenure           10000 non-null  int64   \n",
      " 5   Balance          10000 non-null  float64 \n",
      " 6   NumOfProducts    10000 non-null  int64   \n",
      " 7   HasCrCard        10000 non-null  int64   \n",
      " 8   IsActiveMember   10000 non-null  int64   \n",
      " 9   EstimatedSalary  10000 non-null  float64 \n",
      " 10  Exited           10000 non-null  int64   \n",
      "dtypes: category(2), float64(2), int64(7)\n",
      "memory usage: 723.0 KB\n"
     ]
    }
   ],
   "source": [
    "churn.info()\n"
   ]
  },
  {
   "cell_type": "code",
   "execution_count": 82,
   "id": "81387eaa",
   "metadata": {},
   "outputs": [
    {
     "data": {
      "image/png": "[encoded data removed]",
      "text/plain": [
       "<Figure size 1200x500 with 1 Axes>"
      ]
     },
     "metadata": {},
     "output_type": "display_data"
    }
   ],
   "source": [
    "import matplotlib.pyplot as plt\n",
    "\n",
    "plt.figure(figsize=(12,5))\n",
    "\n",
    "plt.subplot(2,2,2)\n",
    "plt.boxplot(churn['CreditScore'])\n",
    "plt.title('CreditScore Outliers')\n",
    "\n",
    "\n",
    "\n",
    "plt.show()\n"
   ]
  },
  {
   "cell_type": "code",
   "execution_count": 81,
   "id": "8cd91e6d",
   "metadata": {},
   "outputs": [
    {
     "data": {
      "image/png": "[encoded data removed]",
      "text/plain": [
       "<Figure size 640x480 with 1 Axes>"
      ]
     },
     "metadata": {},
     "output_type": "display_data"
    }
   ],
   "source": [
    "plt.subplot(2,2,2)\n",
    "plt.boxplot(churn['Balance'])\n",
    "plt.title('Balance Outliers')\n",
    "\n",
    "plt.show()"
   ]
  },
  {
   "cell_type": "code",
   "execution_count": 83,
   "id": "fbe52834",
   "metadata": {},
   "outputs": [
    {
     "data": {
      "image/png": "[encoded data removed]",
      "text/plain": [
       "<Figure size 640x480 with 1 Axes>"
      ]
     },
     "metadata": {},
     "output_type": "display_data"
    }
   ],
   "source": [
    "plt.subplot(2,2,2)\n",
    "plt.boxplot(churn['EstimatedSalary'])\n",
    "plt.title('EstimatedSalary Outliers')\n",
    "\n",
    "plt.show()"
   ]
  },
  {
   "cell_type": "code",
   "execution_count": 85,
   "id": "42a53710",
   "metadata": {},
   "outputs": [
    {
     "name": "stdout",
     "output_type": "stream",
     "text": [
      "CreditScore bounds: 383.00 - 919.00\n",
      "Balance bounds: -191466.36 - 319110.60\n",
      "EstimatedSalary bounds: -96577.10 - 296967.45\n",
      "CreditScore outliers: 15\n",
      "Balance outliers: 0\n",
      "EstimatedSalary outliers: 0\n"
     ]
    }
   ],
   "source": [
    "# Function to detect outliers using IQR\n",
    "def detect_outliers_iqr(churn, column):\n",
    "    Q1 = churn[column].quantile(0.25)\n",
    "    Q3 = churn[column].quantile(0.75)\n",
    "    IQR = Q3 - Q1\n",
    "    lower = Q1 - 1.5 * IQR\n",
    "    upper = Q3 + 1.5 * IQR\n",
    "    outliers = churn[(churn[column] < lower) | (churn[column] > upper)]\n",
    "    return outliers, lower, upper\n",
    "\n",
    "# Detect outliers\n",
    "credit_outliers, credit_lower, credit_upper = detect_outliers_iqr(churn, 'CreditScore')\n",
    "balance_outliers, balance_lower, balance_upper = detect_outliers_iqr(churn, 'Balance')\n",
    "estimated_outliers, estimated_lower, estimated_upper = detect_outliers_iqr(churn, 'EstimatedSalary')\n",
    "\n",
    "print(f\"CreditScore bounds: {credit_lower:.2f} - {credit_upper:.2f}\")\n",
    "print(f\"Balance bounds: {balance_lower:.2f} - {balance_upper:.2f}\")\n",
    "print(f\"EstimatedSalary bounds: {estimated_lower:.2f} - {estimated_upper:.2f}\")\n",
    "print(f\"CreditScore outliers: {len(credit_outliers)}\")\n",
    "print(f\"Balance outliers: {len(balance_outliers)}\")\n",
    "print(f\"EstimatedSalary outliers: {len(estimated_outliers)}\")\n"
   ]
  },
  {
   "cell_type": "code",
   "execution_count": 87,
   "id": "2ed9c5f4",
   "metadata": {},
   "outputs": [
    {
     "data": {
      "application/vnd.microsoft.datawrangler.viewer.v0+json": {
       "columns": [
        {
         "name": "index",
         "rawType": "object",
         "type": "string"
        },
        {
         "name": "CreditScore",
         "rawType": "float64",
         "type": "float"
        }
       ],
       "ref": "66c17090-215c-44d1-a04d-887ab380cbb8",
       "rows": [
        [
         "count",
         "9985.0"
        ],
        [
         "mean",
         "650.963244867301"
        ],
        [
         "std",
         "96.07223089303513"
        ],
        [
         "min",
         "383.0"
        ],
        [
         "25%",
         "584.0"
        ],
        [
         "50%",
         "652.0"
        ],
        [
         "75%",
         "718.0"
        ],
        [
         "max",
         "850.0"
        ]
       ],
       "shape": {
        "columns": 1,
        "rows": 8
       }
      },
      "text/plain": [
       "count    9985.000000\n",
       "mean      650.963245\n",
       "std        96.072231\n",
       "min       383.000000\n",
       "25%       584.000000\n",
       "50%       652.000000\n",
       "75%       718.000000\n",
       "max       850.000000\n",
       "Name: CreditScore, dtype: float64"
      ]
     },
     "execution_count": 87,
     "metadata": {},
     "output_type": "execute_result"
    }
   ],
   "source": [
    "churn = churn[(churn['CreditScore'] >= credit_lower) & (churn['CreditScore'] <= credit_upper)]\n",
    "churn['CreditScore'].describe()"
   ]
  },
  {
   "cell_type": "code",
   "execution_count": null,
   "id": "d8facf16",
   "metadata": {},
   "outputs": [],
   "source": []
  }
 ],
 "metadata": {
  "kernelspec": {
   "display_name": "financial-risk-and-customer-retention-py3.12 (3.12.4)",
   "language": "python",
   "name": "python3"
  },
  "language_info": {
   "codemirror_mode": {
    "name": "ipython",
    "version": 3
   },
   "file_extension": ".py",
   "mimetype": "text/x-python",
   "name": "python",
   "nbconvert_exporter": "python",
   "pygments_lexer": "ipython3",
   "version": "3.12.4"
  }
 },
 "nbformat": 4,
 "nbformat_minor": 5
}
